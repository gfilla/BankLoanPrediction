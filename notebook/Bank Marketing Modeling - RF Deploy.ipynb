{
    "nbformat": 4, 
    "nbformat_minor": 1, 
    "cells": [
        {
            "execution_count": 28, 
            "metadata": {
                "collapsed": true
            }, 
            "outputs": [], 
            "cell_type": "code", 
            "source": "import numpy as np\nimport pandas as pd\n\nfrom sklearn.preprocessing import LabelEncoder\nfrom sklearn.cross_validation import train_test_split\nfrom sklearn.linear_model import LogisticRegression\nfrom sklearn.ensemble import RandomForestClassifier\nfrom sklearn.preprocessing import FunctionTransformer\nfrom sklearn.pipeline import make_pipeline, Pipeline\nfrom sklearn.metrics import classification_report, confusion_matrix"
        }, 
        {
            "execution_count": 153, 
            "metadata": {
                "collapsed": true
            }, 
            "outputs": [], 
            "cell_type": "code", 
            "source": "df = pd.read_csv('https://s3.amazonaws.com/aml-sample-data/banking.csv', header=0)"
        }, 
        {
            "execution_count": 154, 
            "metadata": {
                "collapsed": true
            }, 
            "outputs": [], 
            "cell_type": "code", 
            "source": "df.rename(columns={'y':'willRespond'},inplace=True)"
        }, 
        {
            "execution_count": 155, 
            "metadata": {
                "collapsed": true
            }, 
            "outputs": [], 
            "cell_type": "code", 
            "source": "df.drop(['duration','contact','month','day_of_week','default','pdays',],axis=1,inplace=True) #Removing unnecessary columns"
        }, 
        {
            "execution_count": 156, 
            "metadata": {}, 
            "outputs": [
                {
                    "data": {
                        "text/plain": "   age          job  marital          education housing loan  campaign  \\\n0   44  blue-collar  married           basic.4y     yes   no         1   \n1   53   technician  married            unknown      no   no         1   \n2   28   management   single  university.degree     yes   no         3   \n3   39     services  married        high.school      no   no         2   \n4   55      retired  married           basic.4y     yes   no         1   \n\n   previous     poutcome  emp_var_rate  cons_price_idx  cons_conf_idx  \\\n0         0  nonexistent           1.4          93.444          -36.1   \n1         0  nonexistent          -0.1          93.200          -42.0   \n2         2      success          -1.7          94.055          -39.8   \n3         0  nonexistent          -1.8          93.075          -47.1   \n4         1      success          -2.9          92.201          -31.4   \n\n   euribor3m  nr_employed  willRespond  \n0      4.963       5228.1            0  \n1      4.021       5195.8            0  \n2      0.729       4991.6            1  \n3      1.405       5099.1            0  \n4      0.869       5076.2            1  ", 
                        "text/html": "<div>\n<table border=\"1\" class=\"dataframe\">\n  <thead>\n    <tr style=\"text-align: right;\">\n      <th></th>\n      <th>age</th>\n      <th>job</th>\n      <th>marital</th>\n      <th>education</th>\n      <th>housing</th>\n      <th>loan</th>\n      <th>campaign</th>\n      <th>previous</th>\n      <th>poutcome</th>\n      <th>emp_var_rate</th>\n      <th>cons_price_idx</th>\n      <th>cons_conf_idx</th>\n      <th>euribor3m</th>\n      <th>nr_employed</th>\n      <th>willRespond</th>\n    </tr>\n  </thead>\n  <tbody>\n    <tr>\n      <th>0</th>\n      <td>44</td>\n      <td>blue-collar</td>\n      <td>married</td>\n      <td>basic.4y</td>\n      <td>yes</td>\n      <td>no</td>\n      <td>1</td>\n      <td>0</td>\n      <td>nonexistent</td>\n      <td>1.4</td>\n      <td>93.444</td>\n      <td>-36.1</td>\n      <td>4.963</td>\n      <td>5228.1</td>\n      <td>0</td>\n    </tr>\n    <tr>\n      <th>1</th>\n      <td>53</td>\n      <td>technician</td>\n      <td>married</td>\n      <td>unknown</td>\n      <td>no</td>\n      <td>no</td>\n      <td>1</td>\n      <td>0</td>\n      <td>nonexistent</td>\n      <td>-0.1</td>\n      <td>93.200</td>\n      <td>-42.0</td>\n      <td>4.021</td>\n      <td>5195.8</td>\n      <td>0</td>\n    </tr>\n    <tr>\n      <th>2</th>\n      <td>28</td>\n      <td>management</td>\n      <td>single</td>\n      <td>university.degree</td>\n      <td>yes</td>\n      <td>no</td>\n      <td>3</td>\n      <td>2</td>\n      <td>success</td>\n      <td>-1.7</td>\n      <td>94.055</td>\n      <td>-39.8</td>\n      <td>0.729</td>\n      <td>4991.6</td>\n      <td>1</td>\n    </tr>\n    <tr>\n      <th>3</th>\n      <td>39</td>\n      <td>services</td>\n      <td>married</td>\n      <td>high.school</td>\n      <td>no</td>\n      <td>no</td>\n      <td>2</td>\n      <td>0</td>\n      <td>nonexistent</td>\n      <td>-1.8</td>\n      <td>93.075</td>\n      <td>-47.1</td>\n      <td>1.405</td>\n      <td>5099.1</td>\n      <td>0</td>\n    </tr>\n    <tr>\n      <th>4</th>\n      <td>55</td>\n      <td>retired</td>\n      <td>married</td>\n      <td>basic.4y</td>\n      <td>yes</td>\n      <td>no</td>\n      <td>1</td>\n      <td>1</td>\n      <td>success</td>\n      <td>-2.9</td>\n      <td>92.201</td>\n      <td>-31.4</td>\n      <td>0.869</td>\n      <td>5076.2</td>\n      <td>1</td>\n    </tr>\n  </tbody>\n</table>\n</div>"
                    }, 
                    "execution_count": 156, 
                    "output_type": "execute_result", 
                    "metadata": {}
                }
            ], 
            "cell_type": "code", 
            "source": "df.head()"
        }, 
        {
            "execution_count": 157, 
            "metadata": {
                "collapsed": true
            }, 
            "outputs": [], 
            "cell_type": "code", 
            "source": "le=preprocessing.LabelEncoder()"
        }, 
        {
            "execution_count": 158, 
            "metadata": {
                "scrolled": true
            }, 
            "outputs": [
                {
                    "data": {
                        "text/plain": "LabelEncoder()"
                    }, 
                    "execution_count": 158, 
                    "output_type": "execute_result", 
                    "metadata": {}
                }
            ], 
            "cell_type": "code", 
            "source": "le.fit(df.poutcome)"
        }, 
        {
            "execution_count": 159, 
            "metadata": {}, 
            "outputs": [
                {
                    "data": {
                        "text/plain": "['failure', 'nonexistent', 'success']"
                    }, 
                    "execution_count": 159, 
                    "output_type": "execute_result", 
                    "metadata": {}
                }
            ], 
            "cell_type": "code", 
            "source": "list(le.classes_)"
        }, 
        {
            "execution_count": 160, 
            "metadata": {
                "collapsed": true
            }, 
            "outputs": [], 
            "cell_type": "code", 
            "source": "dle.classes_f.poutcome=le.transform(df.poutcome)"
        }, 
        {
            "execution_count": 161, 
            "metadata": {
                "collapsed": true
            }, 
            "outputs": [], 
            "cell_type": "code", 
            "source": "\ndf.housing=le.fit_transform(df.housing)"
        }, 
        {
            "execution_count": 162, 
            "metadata": {
                "scrolled": true
            }, 
            "outputs": [
                {
                    "data": {
                        "text/plain": "array(['no', 'unknown', 'yes'], dtype=object)"
                    }, 
                    "execution_count": 162, 
                    "output_type": "execute_result", 
                    "metadata": {}
                }
            ], 
            "cell_type": "code", 
            "source": "le.classes_"
        }, 
        {
            "execution_count": 163, 
            "metadata": {
                "collapsed": true
            }, 
            "outputs": [], 
            "cell_type": "code", 
            "source": "df.loan=le.fit_transform(df.loan)"
        }, 
        {
            "execution_count": 164, 
            "metadata": {}, 
            "outputs": [
                {
                    "data": {
                        "text/plain": "array(['no', 'unknown', 'yes'], dtype=object)"
                    }, 
                    "execution_count": 164, 
                    "output_type": "execute_result", 
                    "metadata": {}
                }
            ], 
            "cell_type": "code", 
            "source": "le.classes_"
        }, 
        {
            "execution_count": 186, 
            "metadata": {
                "collapsed": true
            }, 
            "outputs": [], 
            "cell_type": "code", 
            "source": "df.job=le.fit_transform(df.job)"
        }, 
        {
            "execution_count": 187, 
            "metadata": {}, 
            "outputs": [
                {
                    "data": {
                        "text/plain": "array(['admin.', 'blue-collar', 'entrepreneur', 'housemaid', 'management',\n       'retired', 'self-employed', 'services', 'student', 'technician',\n       'unemployed', 'unknown'], dtype=object)"
                    }, 
                    "execution_count": 187, 
                    "output_type": "execute_result", 
                    "metadata": {}
                }
            ], 
            "cell_type": "code", 
            "source": "le.classes_"
        }, 
        {
            "execution_count": 189, 
            "metadata": {
                "collapsed": true
            }, 
            "outputs": [], 
            "cell_type": "code", 
            "source": "df.marital=le.fit_transform(df.marital)"
        }, 
        {
            "execution_count": 190, 
            "metadata": {}, 
            "outputs": [
                {
                    "data": {
                        "text/plain": "array(['divorced', 'married', 'single', 'unknown'], dtype=object)"
                    }, 
                    "execution_count": 190, 
                    "output_type": "execute_result", 
                    "metadata": {}
                }
            ], 
            "cell_type": "code", 
            "source": "le.classes_"
        }, 
        {
            "execution_count": 191, 
            "metadata": {
                "collapsed": true
            }, 
            "outputs": [], 
            "cell_type": "code", 
            "source": "df.education=le.fit_transform(df.education)"
        }, 
        {
            "execution_count": 192, 
            "metadata": {}, 
            "outputs": [
                {
                    "data": {
                        "text/plain": "array(['basic.4y', 'basic.6y', 'basic.9y', 'high.school', 'illiterate',\n       'professional.course', 'university.degree', 'unknown'], dtype=object)"
                    }, 
                    "execution_count": 192, 
                    "output_type": "execute_result", 
                    "metadata": {}
                }
            ], 
            "cell_type": "code", 
            "source": "le.classes_"
        }, 
        {
            "execution_count": 166, 
            "metadata": {}, 
            "outputs": [
                {
                    "data": {
                        "text/plain": "56"
                    }, 
                    "execution_count": 166, 
                    "output_type": "execute_result", 
                    "metadata": {}
                }
            ], 
            "cell_type": "code", 
            "source": "df.campaign.max()"
        }, 
        {
            "execution_count": 14, 
            "metadata": {
                "scrolled": true
            }, 
            "outputs": [
                {
                    "data": {
                        "text/plain": "['basic.4y',\n 'basic.6y',\n 'basic.9y',\n 'high.school',\n 'illiterate',\n 'professional.course',\n 'university.degree',\n 'unknown']"
                    }, 
                    "execution_count": 14, 
                    "output_type": "execute_result", 
                    "metadata": {}
                }
            ], 
            "cell_type": "code", 
            "source": "list(le.classes_)"
        }, 
        {
            "source": "# Splitting and Creating a Logistic Regression Model", 
            "cell_type": "markdown", 
            "metadata": {}
        }, 
        {
            "execution_count": 225, 
            "metadata": {
                "collapsed": true
            }, 
            "outputs": [], 
            "cell_type": "code", 
            "source": "X = df.drop('willRespond',axis=1)\ny = df.willRespond"
        }, 
        {
            "execution_count": 226, 
            "metadata": {
                "collapsed": true
            }, 
            "outputs": [], 
            "cell_type": "code", 
            "source": "smallX = X.loc[:,['age','job','marital','education','housing','loan','campaign']]\nX = smallX"
        }, 
        {
            "execution_count": 241, 
            "metadata": {
                "collapsed": true, 
                "scrolled": true
            }, 
            "outputs": [], 
            "cell_type": "code", 
            "source": "x_train, x_test, y_train, y_test = cross_validation.train_test_split(X, y, test_size=0.3, random_state=0,stratify=y) #70/30"
        }, 
        {
            "execution_count": 86, 
            "metadata": {
                "collapsed": true
            }, 
            "outputs": [], 
            "cell_type": "code", 
            "source": "num_trees = 100\nsample_weight = np.array([6.5 if i == 1 else 1 for i in y_train]) # handling unbalanced 10:1 ratio\n\nclf = RandomForestClassifier(n_estimators=num_trees , max_depth=2, n_jobs =4, random_state=0)"
        }, 
        {
            "execution_count": 87, 
            "metadata": {
                "scrolled": false
            }, 
            "outputs": [
                {
                    "data": {
                        "text/plain": "RandomForestClassifier(bootstrap=True, class_weight=None, criterion='gini',\n            max_depth=2, max_features='auto', max_leaf_nodes=None,\n            min_samples_leaf=1, min_samples_split=2,\n            min_weight_fraction_leaf=0.0, n_estimators=100, n_jobs=4,\n            oob_score=False, random_state=0, verbose=0, warm_start=False)"
                    }, 
                    "execution_count": 87, 
                    "output_type": "execute_result", 
                    "metadata": {}
                }
            ], 
            "cell_type": "code", 
            "source": "clf.fit(x_train, y_train,sample_weight= sample_weight)"
        }, 
        {
            "execution_count": 88, 
            "metadata": {
                "collapsed": true
            }, 
            "outputs": [], 
            "cell_type": "code", 
            "source": "preds = clf.predict(x_test)"
        }, 
        {
            "execution_count": 89, 
            "metadata": {}, 
            "outputs": [
                {
                    "text": "Evaluation report: \n\n             precision    recall  f1-score   support\n\n          0       0.90      0.98      0.93     10965\n          1       0.34      0.10      0.15      1392\n\navg / total       0.83      0.88      0.85     12357\n\n", 
                    "name": "stdout", 
                    "output_type": "stream"
                }
            ], 
            "cell_type": "code", 
            "source": "print(\"Evaluation report: \\n\\n%s\" % classification_report(y_test, preds))"
        }, 
        {
            "execution_count": 90, 
            "metadata": {}, 
            "outputs": [
                {
                    "data": {
                        "text/plain": "array([[10698,   267],\n       [ 1255,   137]])"
                    }, 
                    "execution_count": 90, 
                    "output_type": "execute_result", 
                    "metadata": {}
                }
            ], 
            "cell_type": "code", 
            "source": "confusion_matrix(y_test,preds)"
        }, 
        {
            "execution_count": 39, 
            "metadata": {
                "collapsed": true, 
                "scrolled": true
            }, 
            "outputs": [], 
            "cell_type": "code", 
            "source": "#scoring with threshold\ny_pred = pd.Series(final_scores).map(lambda x: 1 if x > 0.6 else 0)\nnp.mean(y_pred==y_test)\n\n#print(\"Evaluation report: \\n\\n%s\" % classification_report(y_test, prediction))"
        }, 
        {
            "execution_count": 23, 
            "metadata": {
                "collapsed": true
            }, 
            "outputs": [], 
            "cell_type": "code", 
            "source": "# # Ensembling\n\n# x_train.loc[:,'target'] = y_train\n# pos = x_train[x_train.target == 1]\n# neg = x_train[x_train.target == 0]\n# smp_size = int(pos.shape[0] * 0.9)\n\n# #model training\n# models = []\n# for i in range(30):\n#     pos_smp = pos.sample(n=smp_size)\n#     neg_smp = neg.sample(n=smp_size)\n#     full_smp = pos_smp.append(neg_smp)\n#     x_smp = full_smp.drop('target',axis=1)\n#     y_smp = full_smp.target\n#     model=LogisticRegression(penalty='l2', max_iter=5)\n#     model.fit(x_smp,y_smp)\n#     models.append(model)\n    \n# def iterateModels(data):\n#     scores = []\n#     for mod in models:\n#         scores.append(mod.predict_proba(data)[0][1])\n#     return np.mean(scores)\n\n# single = x_test.iloc[0,:].values\n# single.shape\n# s = single.reshape(1,7)\n# models[0].predict_proba(s)[0][1]\n# iterateModels(s)\n#\n# scores = np.zeros([x_test.shape[0],30])\n# for i, model in enumerate(models):\n#     scores[:,i] = model.predict_proba(x_test)[:,1]\n# final_scores = scores.mean(axis=1)\n# x_test.iloc[0,:].values\n# final_scores[0]"
        }, 
        {
            "source": "### Convert function to pipeline transformer", 
            "cell_type": "markdown", 
            "metadata": {}
        }, 
        {
            "execution_count": 95, 
            "metadata": {
                "collapsed": true
            }, 
            "outputs": [], 
            "cell_type": "code", 
            "source": "single = x_test.iloc[0,:].values\ns = single.reshape(1,7)"
        }, 
        {
            "execution_count": 47, 
            "metadata": {
                "collapsed": true
            }, 
            "outputs": [], 
            "cell_type": "code", 
            "source": "# transFunc = FunctionTransformer(iterateModels)\n# myPipe = make_pipeline(transFunc)\n# myPipe.transform(s)"
        }, 
        {
            "execution_count": 91, 
            "metadata": {
                "collapsed": true
            }, 
            "outputs": [], 
            "cell_type": "code", 
            "source": "myPipe = make_pipeline(clf)"
        }, 
        {
            "execution_count": 97, 
            "metadata": {
                "scrolled": true
            }, 
            "outputs": [
                {
                    "data": {
                        "text/plain": "array([[ 0.56217653,  0.43782347]])"
                    }, 
                    "execution_count": 97, 
                    "output_type": "execute_result", 
                    "metadata": {}
                }
            ], 
            "cell_type": "code", 
            "source": "myPipe.predict_proba(s)"
        }, 
        {
            "source": "### Store offline predictions for use in RShiny App ", 
            "cell_type": "markdown", 
            "metadata": {}
        }, 
        {
            "execution_count": 229, 
            "metadata": {
                "collapsed": true, 
                "scrolled": true
            }, 
            "outputs": [], 
            "cell_type": "code", 
            "source": "test_preds = myPipe.predict_proba(x_test)\ntest_pred_class = myPipe.predict(x_test)"
        }, 
        {
            "execution_count": 238, 
            "metadata": {}, 
            "outputs": [
                {
                    "data": {
                        "text/plain": "       age  job  marital  education  housing  loan  campaign  pred_class  \\\n39935   33    0        1          6        0     0         3           0   \n30199   32    4        1          6        0     0         2           0   \n17755   49    7        2          3        2     2         1           0   \n768     42    0        2          6        2     2         1           0   \n21784   54    0        1          6        2     0         1           0   \n\n       proba_no  proba_yes  \n39935  0.562177   0.437823  \n30199  0.539041   0.460959  \n17755  0.534492   0.465508  \n768    0.528961   0.471039  \n21784  0.551152   0.448848  ", 
                        "text/html": "<div>\n<table border=\"1\" class=\"dataframe\">\n  <thead>\n    <tr style=\"text-align: right;\">\n      <th></th>\n      <th>age</th>\n      <th>job</th>\n      <th>marital</th>\n      <th>education</th>\n      <th>housing</th>\n      <th>loan</th>\n      <th>campaign</th>\n      <th>pred_class</th>\n      <th>proba_no</th>\n      <th>proba_yes</th>\n    </tr>\n  </thead>\n  <tbody>\n    <tr>\n      <th>39935</th>\n      <td>33</td>\n      <td>0</td>\n      <td>1</td>\n      <td>6</td>\n      <td>0</td>\n      <td>0</td>\n      <td>3</td>\n      <td>0</td>\n      <td>0.562177</td>\n      <td>0.437823</td>\n    </tr>\n    <tr>\n      <th>30199</th>\n      <td>32</td>\n      <td>4</td>\n      <td>1</td>\n      <td>6</td>\n      <td>0</td>\n      <td>0</td>\n      <td>2</td>\n      <td>0</td>\n      <td>0.539041</td>\n      <td>0.460959</td>\n    </tr>\n    <tr>\n      <th>17755</th>\n      <td>49</td>\n      <td>7</td>\n      <td>2</td>\n      <td>3</td>\n      <td>2</td>\n      <td>2</td>\n      <td>1</td>\n      <td>0</td>\n      <td>0.534492</td>\n      <td>0.465508</td>\n    </tr>\n    <tr>\n      <th>768</th>\n      <td>42</td>\n      <td>0</td>\n      <td>2</td>\n      <td>6</td>\n      <td>2</td>\n      <td>2</td>\n      <td>1</td>\n      <td>0</td>\n      <td>0.528961</td>\n      <td>0.471039</td>\n    </tr>\n    <tr>\n      <th>21784</th>\n      <td>54</td>\n      <td>0</td>\n      <td>1</td>\n      <td>6</td>\n      <td>2</td>\n      <td>0</td>\n      <td>1</td>\n      <td>0</td>\n      <td>0.551152</td>\n      <td>0.448848</td>\n    </tr>\n  </tbody>\n</table>\n</div>"
                    }, 
                    "execution_count": 238, 
                    "output_type": "execute_result", 
                    "metadata": {}
                }
            ], 
            "cell_type": "code", 
            "source": "x_test.head()"
        }, 
        {
            "execution_count": 242, 
            "metadata": {
                "scrolled": true
            }, 
            "outputs": [
                {
                    "text": "/usr/local/src/conda3_runtime.v17/4.1.1/lib/python3.5/site-packages/pandas/core/indexing.py:288: SettingWithCopyWarning: \nA value is trying to be set on a copy of a slice from a DataFrame.\nTry using .loc[row_indexer,col_indexer] = value instead\n\nSee the caveats in the documentation: http://pandas.pydata.org/pandas-docs/stable/indexing.html#indexing-view-versus-copy\n  self.obj[key] = _infer_fill_value(value)\n/usr/local/src/conda3_runtime.v17/4.1.1/lib/python3.5/site-packages/pandas/core/indexing.py:465: SettingWithCopyWarning: \nA value is trying to be set on a copy of a slice from a DataFrame.\nTry using .loc[row_indexer,col_indexer] = value instead\n\nSee the caveats in the documentation: http://pandas.pydata.org/pandas-docs/stable/indexing.html#indexing-view-versus-copy\n  self.obj[item] = s\n", 
                    "name": "stderr", 
                    "output_type": "stream"
                }
            ], 
            "cell_type": "code", 
            "source": "x_test.loc[:,'actual_class'] = y_test\nx_test.loc[:,'pred_class'] = test_pred_class\nx_test.loc[:,'proba_no'] = test_preds[:,0]\nx_test.loc[:,'proba_yes'] = test_preds[:,1]"
        }, 
        {
            "execution_count": 243, 
            "metadata": {}, 
            "outputs": [
                {
                    "data": {
                        "text/plain": "       age  job  marital  education  housing  loan  campaign  actual_class  \\\n39935   33    0        1          6        0     0         3             0   \n30199   32    4        1          6        0     0         2             0   \n17755   49    7        2          3        2     2         1             0   \n768     42    0        2          6        2     2         1             0   \n21784   54    0        1          6        2     0         1             0   \n\n       pred_class  proba_no  proba_yes  \n39935           0  0.562177   0.437823  \n30199           0  0.539041   0.460959  \n17755           0  0.534492   0.465508  \n768             0  0.528961   0.471039  \n21784           0  0.551152   0.448848  ", 
                        "text/html": "<div>\n<table border=\"1\" class=\"dataframe\">\n  <thead>\n    <tr style=\"text-align: right;\">\n      <th></th>\n      <th>age</th>\n      <th>job</th>\n      <th>marital</th>\n      <th>education</th>\n      <th>housing</th>\n      <th>loan</th>\n      <th>campaign</th>\n      <th>actual_class</th>\n      <th>pred_class</th>\n      <th>proba_no</th>\n      <th>proba_yes</th>\n    </tr>\n  </thead>\n  <tbody>\n    <tr>\n      <th>39935</th>\n      <td>33</td>\n      <td>0</td>\n      <td>1</td>\n      <td>6</td>\n      <td>0</td>\n      <td>0</td>\n      <td>3</td>\n      <td>0</td>\n      <td>0</td>\n      <td>0.562177</td>\n      <td>0.437823</td>\n    </tr>\n    <tr>\n      <th>30199</th>\n      <td>32</td>\n      <td>4</td>\n      <td>1</td>\n      <td>6</td>\n      <td>0</td>\n      <td>0</td>\n      <td>2</td>\n      <td>0</td>\n      <td>0</td>\n      <td>0.539041</td>\n      <td>0.460959</td>\n    </tr>\n    <tr>\n      <th>17755</th>\n      <td>49</td>\n      <td>7</td>\n      <td>2</td>\n      <td>3</td>\n      <td>2</td>\n      <td>2</td>\n      <td>1</td>\n      <td>0</td>\n      <td>0</td>\n      <td>0.534492</td>\n      <td>0.465508</td>\n    </tr>\n    <tr>\n      <th>768</th>\n      <td>42</td>\n      <td>0</td>\n      <td>2</td>\n      <td>6</td>\n      <td>2</td>\n      <td>2</td>\n      <td>1</td>\n      <td>0</td>\n      <td>0</td>\n      <td>0.528961</td>\n      <td>0.471039</td>\n    </tr>\n    <tr>\n      <th>21784</th>\n      <td>54</td>\n      <td>0</td>\n      <td>1</td>\n      <td>6</td>\n      <td>2</td>\n      <td>0</td>\n      <td>1</td>\n      <td>0</td>\n      <td>0</td>\n      <td>0.551152</td>\n      <td>0.448848</td>\n    </tr>\n  </tbody>\n</table>\n</div>"
                    }, 
                    "execution_count": 243, 
                    "output_type": "execute_result", 
                    "metadata": {}
                }
            ], 
            "cell_type": "code", 
            "source": "x_test.head()"
        }, 
        {
            "execution_count": 244, 
            "metadata": {
                "collapsed": true
            }, 
            "outputs": [], 
            "cell_type": "code", 
            "source": "from io import BytesIO  \nimport requests  \nimport json  \nimport pandas as pd\n\ndef put_file(credentials, local_file_name):  \n    \"\"\"This functions returns a StringIO object containing\n    the file content from Bluemix Object Storage V3.\"\"\"\n    f = open(local_file_name,'r')\n    my_data = f.read()\n    url1 = ''.join(['https://identity.open.softlayer.com', '/v3/auth/tokens'])\n    data = {'auth': {'identity': {'methods': ['password'],\n            'password': {'user': {'name': credentials['username'],'domain': {'id': credentials['domain_id']},\n            'password': credentials['password']}}}}}\n    headers1 = {'Content-Type': 'application/json'}\n    resp1 = requests.post(url=url1, data=json.dumps(data), headers=headers1)\n    resp1_body = resp1.json()\n    for e1 in resp1_body['token']['catalog']:\n        if(e1['type']=='object-store'):\n            for e2 in e1['endpoints']:\n                        if(e2['interface']=='public'and e2['region']=='dallas'):\n                            url2 = ''.join([e2['url'],'/', credentials['container'], '/', local_file_name])\n    s_subject_token = resp1.headers['x-subject-token']\n    headers2 = {'X-Auth-Token': s_subject_token, 'accept': 'application/json'}\n    resp2 = requests.put(url=url2, headers=headers2, data = my_data )\n    print(resp2)\n"
        }, 
        {
            "execution_count": 245, 
            "metadata": {
                "collapsed": true
            }, 
            "outputs": [], 
            "cell_type": "code", 
            "source": "x_test.to_csv('Test_Scored.csv', index=False)"
        }, 
        {
            "execution_count": 246, 
            "metadata": {
                "collapsed": true
            }, 
            "outputs": [], 
            "cell_type": "code", 
            "source": "# The code was removed by DSX for sharing."
        }, 
        {
            "execution_count": 247, 
            "metadata": {}, 
            "outputs": [
                {
                    "text": "<Response [201]>\n", 
                    "name": "stdout", 
                    "output_type": "stream"
                }
            ], 
            "cell_type": "code", 
            "source": "put_file(credentials_1, 'Test_Scored.csv')"
        }, 
        {
            "execution_count": 207, 
            "metadata": {
                "scrolled": false
            }, 
            "outputs": [
                {
                    "data": {
                        "text/plain": "array([[ 0.56217653,  0.43782347],\n       [ 0.53904056,  0.46095944],\n       [ 0.53449183,  0.46550817],\n       ..., \n       [ 0.52391123,  0.47608877],\n       [ 0.60577129,  0.39422871],\n       [ 0.51853334,  0.48146666]])"
                    }, 
                    "execution_count": 207, 
                    "output_type": "execute_result", 
                    "metadata": {}
                }
            ], 
            "cell_type": "code", 
            "source": "test_preds"
        }, 
        {
            "source": "### Deploy!\n", 
            "cell_type": "markdown", 
            "metadata": {}
        }, 
        {
            "execution_count": 50, 
            "metadata": {
                "collapsed": true
            }, 
            "outputs": [], 
            "cell_type": "code", 
            "source": "#!pip install git+https://<username>:<token>@github.ibm.com/spark-service/project-lib.git --ignore-installed"
        }, 
        {
            "execution_count": 117, 
            "metadata": {
                "collapsed": true
            }, 
            "outputs": [], 
            "cell_type": "code", 
            "source": "from repository.mlrepositoryclient import MLRepositoryClient\nfrom repository.mlrepositoryartifact import MLRepositoryArtifact\nfrom repository.mlrepository import MetaProps, MetaNames\nfrom project_lib import Project"
        }, 
        {
            "execution_count": 118, 
            "metadata": {
                "collapsed": true
            }, 
            "outputs": [], 
            "cell_type": "code", 
            "source": "# The code was removed by DSX for sharing."
        }, 
        {
            "execution_count": 119, 
            "metadata": {
                "collapsed": true, 
                "scrolled": true
            }, 
            "outputs": [], 
            "cell_type": "code", 
            "source": "proj = Project(sc, 'be994310-57f5-4351-9017-4dd6e0ce1817', 'p-1088294dc79b4eb3e43a160707efc5ead06433af')"
        }, 
        {
            "execution_count": 120, 
            "metadata": {
                "scrolled": false
            }, 
            "outputs": [
                {
                    "data": {
                        "text/plain": "{'access_key': 'NFPpJtE9HQ4YdoUGt0VHw4Kl+2gk8Ga3LSeLilRqFCI+gl9ii76AJBDn71rBT/3kHxGxQ3pIogjgEOjN0TGDTcL0h32gVzPkwMbmHXNpi+FQYUqQmv73SQJrb1WXWeZv',\n 'instance_id': '8a2b9093-833c-469c-b648-192bedbbbd4a',\n 'password': 'e183a9fc-a67b-4aea-b787-59527a2da805',\n 'url': 'https://ibm-watson-ml.mybluemix.net',\n 'username': '4fae7652-8cf5-4fc5-a90b-6a80e8120cd0'}"
                    }, 
                    "execution_count": 120, 
                    "output_type": "execute_result", 
                    "metadata": {}
                }
            ], 
            "cell_type": "code", 
            "source": "#inserted by clicking project token \nproj_meta = proj.get_metadata()\n#creds = [x for x in proj_meta['entity']['compute'] if x['type'] == 'machine_learning'][0]['credentials']\ncreds = [x for x in proj_meta['entity']['compute'] if x['type'] == 'machine_learning'][1]['credentials']\ncreds "
        }, 
        {
            "execution_count": 121, 
            "metadata": {
                "collapsed": true
            }, 
            "outputs": [], 
            "cell_type": "code", 
            "source": "service_path = 'https://ibm-watson-ml.mybluemix.net'\nusername = creds['username']\npassword = creds['password']\ninstance_id = creds['instance_id']\n"
        }, 
        {
            "execution_count": 122, 
            "metadata": {
                "collapsed": true
            }, 
            "outputs": [], 
            "cell_type": "code", 
            "source": "ml_repository_client = MLRepositoryClient(service_path)\nml_repository_client.authorize(username, password)\nprops = MetaProps({MetaNames.AUTHOR_NAME:\"Greg Filla\", MetaNames.AUTHOR_EMAIL:\"gfilla@us.ibm.com\"})"
        }, 
        {
            "execution_count": 123, 
            "metadata": {
                "collapsed": true
            }, 
            "outputs": [], 
            "cell_type": "code", 
            "source": "#model_artifact = MLRepositoryArtifact(myPipe, name=\"bank_lr_ensemble\", meta_props=props)\nmodel_artifact = MLRepositoryArtifact(myPipe, name=\"bank_rf\", meta_props=props)"
        }, 
        {
            "execution_count": 124, 
            "metadata": {
                "collapsed": true
            }, 
            "outputs": [], 
            "cell_type": "code", 
            "source": "saved_model = ml_repository_client.models.save(model_artifact)"
        }, 
        {
            "execution_count": 125, 
            "metadata": {}, 
            "outputs": [
                {
                    "data": {
                        "text/plain": "dict_keys(['lastUpdated', 'version', 'authorEmail', 'trainingDataRef', 'runtime', 'pipelineVersionHref', 'modelVersionHref', 'creationTime', 'modelType', 'authorName'])"
                    }, 
                    "execution_count": 125, 
                    "output_type": "execute_result", 
                    "metadata": {}
                }
            ], 
            "cell_type": "code", 
            "source": "saved_model.meta.available_props()"
        }, 
        {
            "execution_count": 126, 
            "metadata": {}, 
            "outputs": [
                {
                    "text": "modelType: scikit-model-0.17\nruntime: python-3.5\ncreationTime: 2017-09-23 17:48:13.007000+00:00\nmodelVersionHref: https://ibm-watson-ml.mybluemix.net/v2/artifacts/models/a80515c8-1f8a-412f-8a1f-98126f64c15f/versions/0a00353a-d5de-432d-9e72-f4ed36379d53\n", 
                    "name": "stdout", 
                    "output_type": "stream"
                }
            ], 
            "cell_type": "code", 
            "source": "print(\"modelType: \" + saved_model.meta.prop(\"modelType\"))\nprint(\"runtime: \" + saved_model.meta.prop(\"runtime\"))\nprint(\"creationTime: \" + str(saved_model.meta.prop(\"creationTime\")))\nprint(\"modelVersionHref: \" + saved_model.meta.prop(\"modelVersionHref\"))"
        }, 
        {
            "execution_count": 127, 
            "metadata": {
                "collapsed": true
            }, 
            "outputs": [], 
            "cell_type": "code", 
            "source": "loadedModelArtifact = ml_repository_client.models.get(saved_model.uid)"
        }, 
        {
            "execution_count": 128, 
            "metadata": {}, 
            "outputs": [
                {
                    "text": "bank_rf\na80515c8-1f8a-412f-8a1f-98126f64c15f\n", 
                    "name": "stdout", 
                    "output_type": "stream"
                }
            ], 
            "cell_type": "code", 
            "source": "print(loadedModelArtifact.name)\nprint(saved_model.uid)"
        }, 
        {
            "execution_count": 129, 
            "metadata": {}, 
            "outputs": [
                {
                    "data": {
                        "text/plain": "array([[33,  0,  1,  6,  0,  0,  3]])"
                    }, 
                    "execution_count": 129, 
                    "output_type": "execute_result", 
                    "metadata": {}
                }
            ], 
            "cell_type": "code", 
            "source": "s"
        }, 
        {
            "execution_count": 130, 
            "metadata": {
                "collapsed": true
            }, 
            "outputs": [], 
            "cell_type": "code", 
            "source": "predictions = loadedModelArtifact.model_instance().predict(s)"
        }, 
        {
            "execution_count": 131, 
            "metadata": {}, 
            "outputs": [
                {
                    "data": {
                        "text/plain": "array([0])"
                    }, 
                    "execution_count": 131, 
                    "output_type": "execute_result", 
                    "metadata": {}
                }
            ], 
            "cell_type": "code", 
            "source": "predictions"
        }, 
        {
            "execution_count": 132, 
            "metadata": {
                "collapsed": true
            }, 
            "outputs": [], 
            "cell_type": "code", 
            "source": "import urllib3, requests, json\n\nheaders = urllib3.util.make_headers(basic_auth='{}:{}'.format(username, password))\nurl = '{}/v3/identity/token'.format(service_path)\nresponse = requests.get(url, headers=headers)\nmltoken = json.loads(response.text).get('token')"
        }, 
        {
            "execution_count": 133, 
            "metadata": {}, 
            "outputs": [
                {
                    "text": "<Response [200]>\n{\"metadata\":{\"guid\":\"8a2b9093-833c-469c-b648-192bedbbbd4a\",\"url\":\"https://ibm-watson-ml.mybluemix.net/v3/wml_instances/8a2b9093-833c-469c-b648-192bedbbbd4a\",\"created_at\":\"2017-09-23T17:46:03.389Z\",\"modified_at\":\"2017-09-23T17:48:13.112Z\"},\"entity\":{\"source\":\"Bluemix\",\"published_models\":{\"url\":\"https://ibm-watson-ml.mybluemix.net/v3/wml_instances/8a2b9093-833c-469c-b648-192bedbbbd4a/published_models\"},\"usage\":{\"expiration_date\":\"2017-10-01T00:00:00.000Z\",\"computation_time\":{\"limit\":18000,\"current\":0},\"model_count\":{\"limit\":200,\"current\":1},\"prediction_count\":{\"limit\":5000,\"current\":0},\"deployment_count\":{\"limit\":5,\"current\":0}},\"plan_id\":\"3f6acf43-ede8-413a-ac69-f8af3bb0cbfe\",\"status\":\"Active\",\"organization_guid\":\"59db2e81-0ab2-4abe-b2a1-f7da1b9ad1dc\",\"region\":\"us-south\",\"account\":{\"id\":\"501209268\",\"name\":\"Greg Filla's Account\",\"type\":\"TRIAL\"},\"owner\":{\"ibm_id\":\"310000V6NF\",\"email\":\"gfilla@us.ibm.com\",\"user_id\":\"c1eabbcb-3ff0-4f2a-b6b0-ed5c19df4f2f\",\"country_code\":\"USA\",\"beta_user\":true},\"deployments\":{\"url\":\"https://ibm-watson-ml.mybluemix.net/v3/wml_instances/8a2b9093-833c-469c-b648-192bedbbbd4a/deployments\"},\"space_guid\":\"b14da21f-90d5-4e22-ac7a-511d20592d9b\",\"plan\":\"free\"}}\n", 
                    "name": "stdout", 
                    "output_type": "stream"
                }
            ], 
            "cell_type": "code", 
            "source": "endpoint_instance = service_path + \"/v3/wml_instances/\" + instance_id\nheader = {'Content-Type': 'application/json', 'Authorization': 'Bearer ' + mltoken} \n\nresponse_get_instance = requests.get(endpoint_instance, headers=header)\nprint(response_get_instance)\nprint(response_get_instance.text)"
        }, 
        {
            "execution_count": 134, 
            "metadata": {}, 
            "outputs": [
                {
                    "text": "https://ibm-watson-ml.mybluemix.net/v3/wml_instances/8a2b9093-833c-469c-b648-192bedbbbd4a/published_models\n", 
                    "name": "stdout", 
                    "output_type": "stream"
                }
            ], 
            "cell_type": "code", 
            "source": "endpoint_published_models = json.loads(response_get_instance.text).get('entity').get('published_models').get('url')\n\nprint(endpoint_published_models)"
        }, 
        {
            "execution_count": 135, 
            "metadata": {
                "scrolled": true
            }, 
            "outputs": [
                {
                    "text": "<Response [200]>\n{\"count\":1,\"resources\":[{\"metadata\":{\"guid\":\"a80515c8-1f8a-412f-8a1f-98126f64c15f\",\"url\":\"https://ibm-watson-ml.mybluemix.net/v3/wml_instances/8a2b9093-833c-469c-b648-192bedbbbd4a/published_models/a80515c8-1f8a-412f-8a1f-98126f64c15f\",\"created_at\":\"2017-09-23T17:48:13.007Z\",\"modified_at\":\"2017-09-23T17:48:13.144Z\"},\"entity\":{\"runtime_environment\":\"python-3.5\",\"author\":{\"name\":\"Greg Filla\",\"email\":\"gfilla@us.ibm.com\"},\"name\":\"bank_rf\",\"latest_version\":{\"url\":\"https://ibm-watson-ml.mybluemix.net/v2/artifacts/models/a80515c8-1f8a-412f-8a1f-98126f64c15f/versions/0a00353a-d5de-432d-9e72-f4ed36379d53\",\"guid\":\"0a00353a-d5de-432d-9e72-f4ed36379d53\",\"created_at\":\"2017-09-23T17:48:13.144Z\"},\"model_type\":\"scikit-model-0.17\",\"deployments\":{\"count\":0,\"url\":\"https://ibm-watson-ml.mybluemix.net/v3/wml_instances/8a2b9093-833c-469c-b648-192bedbbbd4a/published_models/a80515c8-1f8a-412f-8a1f-98126f64c15f/deployments\"}}}]}\n", 
                    "name": "stdout", 
                    "output_type": "stream"
                }
            ], 
            "cell_type": "code", 
            "source": "header = {'Content-Type': 'application/json', 'Authorization': 'Bearer ' + mltoken}\nresponse_get = requests.get(endpoint_published_models, headers=header)\n\nprint(response_get)\nprint(response_get.text)"
        }, 
        {
            "execution_count": 139, 
            "metadata": {}, 
            "outputs": [
                {
                    "text": "https://ibm-watson-ml.mybluemix.net/v3/wml_instances/8a2b9093-833c-469c-b648-192bedbbbd4a/published_models/a80515c8-1f8a-412f-8a1f-98126f64c15f/deployments\n", 
                    "name": "stdout", 
                    "output_type": "stream"
                }
            ], 
            "cell_type": "code", 
            "source": "[endpoint_deployments] = [x.get('entity').get('deployments').get('url') for x in json.loads(response_get.text).get('resources') if x.get('metadata').get('guid') == saved_model.uid]\n\nprint(endpoint_deployments)"
        }, 
        {
            "execution_count": 140, 
            "metadata": {
                "scrolled": true
            }, 
            "outputs": [
                {
                    "text": "<Response [201]>\n{\"metadata\":{\"guid\":\"041a650f-a1c3-4f89-a6bc-43ddd57fe138\",\"url\":\"https://ibm-watson-ml.mybluemix.net/v3/wml_instances/8a2b9093-833c-469c-b648-192bedbbbd4a/published_models/a80515c8-1f8a-412f-8a1f-98126f64c15f/deployments/041a650f-a1c3-4f89-a6bc-43ddd57fe138\",\"created_at\":\"2017-09-23T17:50:13.666Z\",\"modified_at\":\"2017-09-23T17:50:15.100Z\"},\"entity\":{\"runtime_environment\":\"python-3.5\",\"name\":\"Bank Loan Scoring v1_rf\",\"scoring_url\":\"https://ibm-watson-ml.mybluemix.net/v3/wml_instances/8a2b9093-833c-469c-b648-192bedbbbd4a/published_models/a80515c8-1f8a-412f-8a1f-98126f64c15f/deployments/041a650f-a1c3-4f89-a6bc-43ddd57fe138/online\",\"description\":\"Scoring bank applicants for loan approval\",\"published_model\":{\"author\":{\"name\":\"Greg Filla\",\"email\":\"gfilla@us.ibm.com\"},\"name\":\"bank_rf\",\"url\":\"https://ibm-watson-ml.mybluemix.net/v3/wml_instances/8a2b9093-833c-469c-b648-192bedbbbd4a/published_models/a80515c8-1f8a-412f-8a1f-98126f64c15f\",\"guid\":\"a80515c8-1f8a-412f-8a1f-98126f64c15f\",\"created_at\":\"2017-09-23T17:50:13.634Z\"},\"model_type\":\"scikit-model-0.17\",\"status\":\"INITIALIZING\",\"type\":\"online\",\"deployed_version\":{\"url\":\"https://ibm-watson-ml.mybluemix.net/v2/artifacts/models/a80515c8-1f8a-412f-8a1f-98126f64c15f/versions/0a00353a-d5de-432d-9e72-f4ed36379d53\",\"guid\":\"0a00353a-d5de-432d-9e72-f4ed36379d53\",\"created_at\":\"2017-09-23T17:48:13.144Z\"}}}\n", 
                    "name": "stdout", 
                    "output_type": "stream"
                }
            ], 
            "cell_type": "code", 
            "source": "payload_online = {\"name\": \"Bank Loan Scoring v1_rf\", \"description\": \"Scoring bank applicants for loan approval\", \"type\": \"online\"}\nresponse_online = requests.post(endpoint_deployments, json=payload_online, headers=header)\n\nprint(response_online)\nprint(response_online.text)"
        }, 
        {
            "execution_count": 141, 
            "metadata": {}, 
            "outputs": [
                {
                    "data": {
                        "text/plain": "'4fae7652-8cf5-4fc5-a90b-6a80e8120cd0'"
                    }, 
                    "execution_count": 141, 
                    "output_type": "execute_result", 
                    "metadata": {}
                }
            ], 
            "cell_type": "code", 
            "source": "username"
        }, 
        {
            "execution_count": 142, 
            "metadata": {}, 
            "outputs": [
                {
                    "data": {
                        "text/plain": "'8a2b9093-833c-469c-b648-192bedbbbd4a'"
                    }, 
                    "execution_count": 142, 
                    "output_type": "execute_result", 
                    "metadata": {}
                }
            ], 
            "cell_type": "code", 
            "source": "instance_id"
        }, 
        {
            "execution_count": 143, 
            "metadata": {}, 
            "outputs": [
                {
                    "data": {
                        "text/plain": "'e183a9fc-a67b-4aea-b787-59527a2da805'"
                    }, 
                    "execution_count": 143, 
                    "output_type": "execute_result", 
                    "metadata": {}
                }
            ], 
            "cell_type": "code", 
            "source": "password"
        }, 
        {
            "execution_count": 144, 
            "metadata": {}, 
            "outputs": [
                {
                    "data": {
                        "text/plain": "array([[33,  0,  1,  6,  0,  0,  3]])"
                    }, 
                    "execution_count": 144, 
                    "output_type": "execute_result", 
                    "metadata": {}
                }
            ], 
            "cell_type": "code", 
            "source": "s"
        }, 
        {
            "execution_count": 148, 
            "metadata": {}, 
            "outputs": [
                {
                    "data": {
                        "text/plain": "0    36548\n1     4640\nName: willRespond, dtype: int64"
                    }, 
                    "execution_count": 148, 
                    "output_type": "execute_result", 
                    "metadata": {}
                }
            ], 
            "cell_type": "code", 
            "source": "df.willRespond.value_counts()"
        }, 
        {
            "execution_count": 146, 
            "metadata": {
                "scrolled": true
            }, 
            "outputs": [
                {
                    "data": {
                        "text/plain": "       age  job  marital  education  housing  loan  campaign\n27598   51    9        0          3        0     0         3\n31026   43    4        1          6        0     0         2\n24524   31    4        1          6        0     0         3\n3744    33    9        0          5        0     0         3\n21460   25    0        2          2        0     0        29", 
                        "text/html": "<div>\n<table border=\"1\" class=\"dataframe\">\n  <thead>\n    <tr style=\"text-align: right;\">\n      <th></th>\n      <th>age</th>\n      <th>job</th>\n      <th>marital</th>\n      <th>education</th>\n      <th>housing</th>\n      <th>loan</th>\n      <th>campaign</th>\n    </tr>\n  </thead>\n  <tbody>\n    <tr>\n      <th>27598</th>\n      <td>51</td>\n      <td>9</td>\n      <td>0</td>\n      <td>3</td>\n      <td>0</td>\n      <td>0</td>\n      <td>3</td>\n    </tr>\n    <tr>\n      <th>31026</th>\n      <td>43</td>\n      <td>4</td>\n      <td>1</td>\n      <td>6</td>\n      <td>0</td>\n      <td>0</td>\n      <td>2</td>\n    </tr>\n    <tr>\n      <th>24524</th>\n      <td>31</td>\n      <td>4</td>\n      <td>1</td>\n      <td>6</td>\n      <td>0</td>\n      <td>0</td>\n      <td>3</td>\n    </tr>\n    <tr>\n      <th>3744</th>\n      <td>33</td>\n      <td>9</td>\n      <td>0</td>\n      <td>5</td>\n      <td>0</td>\n      <td>0</td>\n      <td>3</td>\n    </tr>\n    <tr>\n      <th>21460</th>\n      <td>25</td>\n      <td>0</td>\n      <td>2</td>\n      <td>2</td>\n      <td>0</td>\n      <td>0</td>\n      <td>29</td>\n    </tr>\n  </tbody>\n</table>\n</div>"
                    }, 
                    "execution_count": 146, 
                    "output_type": "execute_result", 
                    "metadata": {}
                }
            ], 
            "cell_type": "code", 
            "source": "x_train.head()"
        }, 
        {
            "execution_count": 173, 
            "metadata": {}, 
            "outputs": [
                {
                    "data": {
                        "text/plain": "0    11953\n1      404\ndtype: int64"
                    }, 
                    "execution_count": 173, 
                    "output_type": "execute_result", 
                    "metadata": {}
                }
            ], 
            "cell_type": "code", 
            "source": "predSer = pd.Series(preds) \npredSer.value_counts()"
        }, 
        {
            "execution_count": 177, 
            "metadata": {}, 
            "outputs": [
                {
                    "data": {
                        "text/plain": "(12357,)"
                    }, 
                    "execution_count": 177, 
                    "output_type": "execute_result", 
                    "metadata": {}
                }
            ], 
            "cell_type": "code", 
            "source": "predSer.shape"
        }, 
        {
            "execution_count": 178, 
            "metadata": {}, 
            "outputs": [
                {
                    "data": {
                        "text/plain": "(12357, 7)"
                    }, 
                    "execution_count": 178, 
                    "output_type": "execute_result", 
                    "metadata": {}
                }
            ], 
            "cell_type": "code", 
            "source": "x_test.shape"
        }, 
        {
            "execution_count": 185, 
            "metadata": {}, 
            "outputs": [
                {
                    "data": {
                        "text/plain": "pandas.core.frame.DataFrame"
                    }, 
                    "execution_count": 185, 
                    "output_type": "execute_result", 
                    "metadata": {}
                }
            ], 
            "cell_type": "code", 
            "source": "type(x_test)"
        }, 
        {
            "execution_count": 202, 
            "metadata": {
                "scrolled": true
            }, 
            "outputs": [
                {
                    "data": {
                        "text/plain": "       age  job  marital  education  housing  loan  campaign\n22788   76    5        1          6        2     0         1\n1651    79    5        1          0        0     2         1\n19415   27    8        2          7        2     0         1\n9086    75    5        1          2        0     0         1\n35220   65    5        1          3        2     2         2\n28059   61    1        1          0        2     0         1\n29775   60    5        1          3        0     0         1\n5241    72    5        1          0        0     0         1\n7788    70    5        1          0        0     0         1\n13983   69    5        1          3        2     0         1\n28714   69    5        1          6        2     0         8\n15467   60    4        1          6        2     0         2\n21645   61    5        1          2        0     0         2\n30024   60    1        1          7        0     0         3\n19000   60    5        1          1        2     0         2\n15728   68    5        1          0        2     0         2\n1602    60    0        1          6        2     0         2\n34493   26   10        2          6        2     0         1\n20426   65    5        1          0        2     0         4\n37516   21    8        2          6        2     0         2\n34417   62    5        2          6        2     2         1\n21152   63    5        1          3        0     0         1\n16356   74    5        0          6        2     0         1\n29675   76    5        1          6        2     0         2\n15239   85    5        2          5        0     0         7\n26501   63    5        1          6        0     0         3\n5342    26    6        2          6        2     0         1\n30415   68    5        2          6        2     0         1\n31818   25    9        3          6        2     2         1\n34064   73    5        1          7        2     0         1\n...    ...  ...      ...        ...      ...   ...       ...\n1287    60    1        1          0        2     0         1\n804     68    5        1          3        0     0         2\n5205    60    5        0          0        2     0         1\n26742   64    0        1          6        0     2         3\n39075   60    0        1          2        0     0         1\n1018    70    5        1          3        2     0         1\n10414   18    8        2          7        2     0         1\n36025   61    3        1          0        2     0         2\n33397   18    8        2          7        2     2         1\n40218   63    5        0          0        0     0         1\n20662   60    3        1          3        0     0         3\n30930   80    5        0          0        2     0         2\n11952   75    5        1          0        2     0         3\n16981   91    5        1          6        2     2         1\n18776   66    5        1          6        0     2         1\n11425   68    5        2          6        0     0         2\n28490   70    5        0          5        2     0         4\n123     60    5        1          0        0     0         3\n38098   60    9        1          3        0     0         8\n39625   66    5        1          7        0     0         2\n27815   60    5        0          0        0     2         1\n40272   60    2        1          0        0     2         2\n5286    63    1        1          0        2     2         3\n11455   67    5        1          5        0     0         2\n1752    71    5        1          2        0     0         2\n35724   20    8        2          7        2     0         1\n8673    21    8        2          7        0     0         1\n21796   81    5        1          0        2     0         1\n31370   26    8        2          7        0     0         1\n21297   69    5        1          6        2     0         1\n\n[404 rows x 7 columns]", 
                        "text/html": "<div>\n<table border=\"1\" class=\"dataframe\">\n  <thead>\n    <tr style=\"text-align: right;\">\n      <th></th>\n      <th>age</th>\n      <th>job</th>\n      <th>marital</th>\n      <th>education</th>\n      <th>housing</th>\n      <th>loan</th>\n      <th>campaign</th>\n    </tr>\n  </thead>\n  <tbody>\n    <tr>\n      <th>22788</th>\n      <td>76</td>\n      <td>5</td>\n      <td>1</td>\n      <td>6</td>\n      <td>2</td>\n      <td>0</td>\n      <td>1</td>\n    </tr>\n    <tr>\n      <th>1651</th>\n      <td>79</td>\n      <td>5</td>\n      <td>1</td>\n      <td>0</td>\n      <td>0</td>\n      <td>2</td>\n      <td>1</td>\n    </tr>\n    <tr>\n      <th>19415</th>\n      <td>27</td>\n      <td>8</td>\n      <td>2</td>\n      <td>7</td>\n      <td>2</td>\n      <td>0</td>\n      <td>1</td>\n    </tr>\n    <tr>\n      <th>9086</th>\n      <td>75</td>\n      <td>5</td>\n      <td>1</td>\n      <td>2</td>\n      <td>0</td>\n      <td>0</td>\n      <td>1</td>\n    </tr>\n    <tr>\n      <th>35220</th>\n      <td>65</td>\n      <td>5</td>\n      <td>1</td>\n      <td>3</td>\n      <td>2</td>\n      <td>2</td>\n      <td>2</td>\n    </tr>\n    <tr>\n      <th>28059</th>\n      <td>61</td>\n      <td>1</td>\n      <td>1</td>\n      <td>0</td>\n      <td>2</td>\n      <td>0</td>\n      <td>1</td>\n    </tr>\n    <tr>\n      <th>29775</th>\n      <td>60</td>\n      <td>5</td>\n      <td>1</td>\n      <td>3</td>\n      <td>0</td>\n      <td>0</td>\n      <td>1</td>\n    </tr>\n    <tr>\n      <th>5241</th>\n      <td>72</td>\n      <td>5</td>\n      <td>1</td>\n      <td>0</td>\n      <td>0</td>\n      <td>0</td>\n      <td>1</td>\n    </tr>\n    <tr>\n      <th>7788</th>\n      <td>70</td>\n      <td>5</td>\n      <td>1</td>\n      <td>0</td>\n      <td>0</td>\n      <td>0</td>\n      <td>1</td>\n    </tr>\n    <tr>\n      <th>13983</th>\n      <td>69</td>\n      <td>5</td>\n      <td>1</td>\n      <td>3</td>\n      <td>2</td>\n      <td>0</td>\n      <td>1</td>\n    </tr>\n    <tr>\n      <th>28714</th>\n      <td>69</td>\n      <td>5</td>\n      <td>1</td>\n      <td>6</td>\n      <td>2</td>\n      <td>0</td>\n      <td>8</td>\n    </tr>\n    <tr>\n      <th>15467</th>\n      <td>60</td>\n      <td>4</td>\n      <td>1</td>\n      <td>6</td>\n      <td>2</td>\n      <td>0</td>\n      <td>2</td>\n    </tr>\n    <tr>\n      <th>21645</th>\n      <td>61</td>\n      <td>5</td>\n      <td>1</td>\n      <td>2</td>\n      <td>0</td>\n      <td>0</td>\n      <td>2</td>\n    </tr>\n    <tr>\n      <th>30024</th>\n      <td>60</td>\n      <td>1</td>\n      <td>1</td>\n      <td>7</td>\n      <td>0</td>\n      <td>0</td>\n      <td>3</td>\n    </tr>\n    <tr>\n      <th>19000</th>\n      <td>60</td>\n      <td>5</td>\n      <td>1</td>\n      <td>1</td>\n      <td>2</td>\n      <td>0</td>\n      <td>2</td>\n    </tr>\n    <tr>\n      <th>15728</th>\n      <td>68</td>\n      <td>5</td>\n      <td>1</td>\n      <td>0</td>\n      <td>2</td>\n      <td>0</td>\n      <td>2</td>\n    </tr>\n    <tr>\n      <th>1602</th>\n      <td>60</td>\n      <td>0</td>\n      <td>1</td>\n      <td>6</td>\n      <td>2</td>\n      <td>0</td>\n      <td>2</td>\n    </tr>\n    <tr>\n      <th>34493</th>\n      <td>26</td>\n      <td>10</td>\n      <td>2</td>\n      <td>6</td>\n      <td>2</td>\n      <td>0</td>\n      <td>1</td>\n    </tr>\n    <tr>\n      <th>20426</th>\n      <td>65</td>\n      <td>5</td>\n      <td>1</td>\n      <td>0</td>\n      <td>2</td>\n      <td>0</td>\n      <td>4</td>\n    </tr>\n    <tr>\n      <th>37516</th>\n      <td>21</td>\n      <td>8</td>\n      <td>2</td>\n      <td>6</td>\n      <td>2</td>\n      <td>0</td>\n      <td>2</td>\n    </tr>\n    <tr>\n      <th>34417</th>\n      <td>62</td>\n      <td>5</td>\n      <td>2</td>\n      <td>6</td>\n      <td>2</td>\n      <td>2</td>\n      <td>1</td>\n    </tr>\n    <tr>\n      <th>21152</th>\n      <td>63</td>\n      <td>5</td>\n      <td>1</td>\n      <td>3</td>\n      <td>0</td>\n      <td>0</td>\n      <td>1</td>\n    </tr>\n    <tr>\n      <th>16356</th>\n      <td>74</td>\n      <td>5</td>\n      <td>0</td>\n      <td>6</td>\n      <td>2</td>\n      <td>0</td>\n      <td>1</td>\n    </tr>\n    <tr>\n      <th>29675</th>\n      <td>76</td>\n      <td>5</td>\n      <td>1</td>\n      <td>6</td>\n      <td>2</td>\n      <td>0</td>\n      <td>2</td>\n    </tr>\n    <tr>\n      <th>15239</th>\n      <td>85</td>\n      <td>5</td>\n      <td>2</td>\n      <td>5</td>\n      <td>0</td>\n      <td>0</td>\n      <td>7</td>\n    </tr>\n    <tr>\n      <th>26501</th>\n      <td>63</td>\n      <td>5</td>\n      <td>1</td>\n      <td>6</td>\n      <td>0</td>\n      <td>0</td>\n      <td>3</td>\n    </tr>\n    <tr>\n      <th>5342</th>\n      <td>26</td>\n      <td>6</td>\n      <td>2</td>\n      <td>6</td>\n      <td>2</td>\n      <td>0</td>\n      <td>1</td>\n    </tr>\n    <tr>\n      <th>30415</th>\n      <td>68</td>\n      <td>5</td>\n      <td>2</td>\n      <td>6</td>\n      <td>2</td>\n      <td>0</td>\n      <td>1</td>\n    </tr>\n    <tr>\n      <th>31818</th>\n      <td>25</td>\n      <td>9</td>\n      <td>3</td>\n      <td>6</td>\n      <td>2</td>\n      <td>2</td>\n      <td>1</td>\n    </tr>\n    <tr>\n      <th>34064</th>\n      <td>73</td>\n      <td>5</td>\n      <td>1</td>\n      <td>7</td>\n      <td>2</td>\n      <td>0</td>\n      <td>1</td>\n    </tr>\n    <tr>\n      <th>...</th>\n      <td>...</td>\n      <td>...</td>\n      <td>...</td>\n      <td>...</td>\n      <td>...</td>\n      <td>...</td>\n      <td>...</td>\n    </tr>\n    <tr>\n      <th>1287</th>\n      <td>60</td>\n      <td>1</td>\n      <td>1</td>\n      <td>0</td>\n      <td>2</td>\n      <td>0</td>\n      <td>1</td>\n    </tr>\n    <tr>\n      <th>804</th>\n      <td>68</td>\n      <td>5</td>\n      <td>1</td>\n      <td>3</td>\n      <td>0</td>\n      <td>0</td>\n      <td>2</td>\n    </tr>\n    <tr>\n      <th>5205</th>\n      <td>60</td>\n      <td>5</td>\n      <td>0</td>\n      <td>0</td>\n      <td>2</td>\n      <td>0</td>\n      <td>1</td>\n    </tr>\n    <tr>\n      <th>26742</th>\n      <td>64</td>\n      <td>0</td>\n      <td>1</td>\n      <td>6</td>\n      <td>0</td>\n      <td>2</td>\n      <td>3</td>\n    </tr>\n    <tr>\n      <th>39075</th>\n      <td>60</td>\n      <td>0</td>\n      <td>1</td>\n      <td>2</td>\n      <td>0</td>\n      <td>0</td>\n      <td>1</td>\n    </tr>\n    <tr>\n      <th>1018</th>\n      <td>70</td>\n      <td>5</td>\n      <td>1</td>\n      <td>3</td>\n      <td>2</td>\n      <td>0</td>\n      <td>1</td>\n    </tr>\n    <tr>\n      <th>10414</th>\n      <td>18</td>\n      <td>8</td>\n      <td>2</td>\n      <td>7</td>\n      <td>2</td>\n      <td>0</td>\n      <td>1</td>\n    </tr>\n    <tr>\n      <th>36025</th>\n      <td>61</td>\n      <td>3</td>\n      <td>1</td>\n      <td>0</td>\n      <td>2</td>\n      <td>0</td>\n      <td>2</td>\n    </tr>\n    <tr>\n      <th>33397</th>\n      <td>18</td>\n      <td>8</td>\n      <td>2</td>\n      <td>7</td>\n      <td>2</td>\n      <td>2</td>\n      <td>1</td>\n    </tr>\n    <tr>\n      <th>40218</th>\n      <td>63</td>\n      <td>5</td>\n      <td>0</td>\n      <td>0</td>\n      <td>0</td>\n      <td>0</td>\n      <td>1</td>\n    </tr>\n    <tr>\n      <th>20662</th>\n      <td>60</td>\n      <td>3</td>\n      <td>1</td>\n      <td>3</td>\n      <td>0</td>\n      <td>0</td>\n      <td>3</td>\n    </tr>\n    <tr>\n      <th>30930</th>\n      <td>80</td>\n      <td>5</td>\n      <td>0</td>\n      <td>0</td>\n      <td>2</td>\n      <td>0</td>\n      <td>2</td>\n    </tr>\n    <tr>\n      <th>11952</th>\n      <td>75</td>\n      <td>5</td>\n      <td>1</td>\n      <td>0</td>\n      <td>2</td>\n      <td>0</td>\n      <td>3</td>\n    </tr>\n    <tr>\n      <th>16981</th>\n      <td>91</td>\n      <td>5</td>\n      <td>1</td>\n      <td>6</td>\n      <td>2</td>\n      <td>2</td>\n      <td>1</td>\n    </tr>\n    <tr>\n      <th>18776</th>\n      <td>66</td>\n      <td>5</td>\n      <td>1</td>\n      <td>6</td>\n      <td>0</td>\n      <td>2</td>\n      <td>1</td>\n    </tr>\n    <tr>\n      <th>11425</th>\n      <td>68</td>\n      <td>5</td>\n      <td>2</td>\n      <td>6</td>\n      <td>0</td>\n      <td>0</td>\n      <td>2</td>\n    </tr>\n    <tr>\n      <th>28490</th>\n      <td>70</td>\n      <td>5</td>\n      <td>0</td>\n      <td>5</td>\n      <td>2</td>\n      <td>0</td>\n      <td>4</td>\n    </tr>\n    <tr>\n      <th>123</th>\n      <td>60</td>\n      <td>5</td>\n      <td>1</td>\n      <td>0</td>\n      <td>0</td>\n      <td>0</td>\n      <td>3</td>\n    </tr>\n    <tr>\n      <th>38098</th>\n      <td>60</td>\n      <td>9</td>\n      <td>1</td>\n      <td>3</td>\n      <td>0</td>\n      <td>0</td>\n      <td>8</td>\n    </tr>\n    <tr>\n      <th>39625</th>\n      <td>66</td>\n      <td>5</td>\n      <td>1</td>\n      <td>7</td>\n      <td>0</td>\n      <td>0</td>\n      <td>2</td>\n    </tr>\n    <tr>\n      <th>27815</th>\n      <td>60</td>\n      <td>5</td>\n      <td>0</td>\n      <td>0</td>\n      <td>0</td>\n      <td>2</td>\n      <td>1</td>\n    </tr>\n    <tr>\n      <th>40272</th>\n      <td>60</td>\n      <td>2</td>\n      <td>1</td>\n      <td>0</td>\n      <td>0</td>\n      <td>2</td>\n      <td>2</td>\n    </tr>\n    <tr>\n      <th>5286</th>\n      <td>63</td>\n      <td>1</td>\n      <td>1</td>\n      <td>0</td>\n      <td>2</td>\n      <td>2</td>\n      <td>3</td>\n    </tr>\n    <tr>\n      <th>11455</th>\n      <td>67</td>\n      <td>5</td>\n      <td>1</td>\n      <td>5</td>\n      <td>0</td>\n      <td>0</td>\n      <td>2</td>\n    </tr>\n    <tr>\n      <th>1752</th>\n      <td>71</td>\n      <td>5</td>\n      <td>1</td>\n      <td>2</td>\n      <td>0</td>\n      <td>0</td>\n      <td>2</td>\n    </tr>\n    <tr>\n      <th>35724</th>\n      <td>20</td>\n      <td>8</td>\n      <td>2</td>\n      <td>7</td>\n      <td>2</td>\n      <td>0</td>\n      <td>1</td>\n    </tr>\n    <tr>\n      <th>8673</th>\n      <td>21</td>\n      <td>8</td>\n      <td>2</td>\n      <td>7</td>\n      <td>0</td>\n      <td>0</td>\n      <td>1</td>\n    </tr>\n    <tr>\n      <th>21796</th>\n      <td>81</td>\n      <td>5</td>\n      <td>1</td>\n      <td>0</td>\n      <td>2</td>\n      <td>0</td>\n      <td>1</td>\n    </tr>\n    <tr>\n      <th>31370</th>\n      <td>26</td>\n      <td>8</td>\n      <td>2</td>\n      <td>7</td>\n      <td>0</td>\n      <td>0</td>\n      <td>1</td>\n    </tr>\n    <tr>\n      <th>21297</th>\n      <td>69</td>\n      <td>5</td>\n      <td>1</td>\n      <td>6</td>\n      <td>2</td>\n      <td>0</td>\n      <td>1</td>\n    </tr>\n  </tbody>\n</table>\n<p>404 rows \u00d7 7 columns</p>\n</div>"
                    }, 
                    "execution_count": 202, 
                    "output_type": "execute_result", 
                    "metadata": {}
                }
            ], 
            "cell_type": "code", 
            "source": "x_test.iloc[(predSer == 1).values, :]"
        }, 
        {
            "execution_count": null, 
            "metadata": {
                "collapsed": true
            }, 
            "outputs": [], 
            "cell_type": "code", 
            "source": ""
        }
    ], 
    "metadata": {
        "language_info": {
            "name": "python", 
            "nbconvert_exporter": "python", 
            "file_extension": ".py", 
            "pygments_lexer": "ipython3", 
            "codemirror_mode": {
                "name": "ipython", 
                "version": 3
            }, 
            "mimetype": "text/x-python", 
            "version": "3.5.2"
        }, 
        "kernelspec": {
            "language": "python", 
            "display_name": "Python 3.5 (Experimental) with Spark 2.0", 
            "name": "python3-spark20"
        }
    }
}
